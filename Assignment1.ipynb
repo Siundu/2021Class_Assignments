{
 "cells": [
  {
   "cell_type": "code",
   "execution_count": 1,
   "metadata": {},
   "outputs": [
    {
     "name": "stdout",
     "output_type": "stream",
     "text": [
      "Enter first and last name: Joyce Siundu\n",
      "Joyce Siundu\n"
     ]
    }
   ],
   "source": [
    "names = input(\"Enter first and last name: \")\n",
    "print(names)\n"
   ]
  },
  {
   "cell_type": "code",
   "execution_count": 3,
   "metadata": {
    "scrolled": true
   },
   "outputs": [
    {
     "name": "stdout",
     "output_type": "stream",
     "text": [
      "What are your goals for this class- long term goals?\n",
      "What would you like to be....when it's all said and done with the class? :  Datascientist\n",
      "Datascientist\n"
     ]
    }
   ],
   "source": [
    "# Enter your goals for this class\n",
    "print(\"What are your goals for this class- long term goals?\")\n",
    "goals = input(\"What would you like to be....when it's all said and done with the class? :  \")\n",
    "print(goals)"
   ]
  }
 ],
 "metadata": {
  "kernelspec": {
   "display_name": "Python 3",
   "language": "python",
   "name": "python3"
  },
  "language_info": {
   "codemirror_mode": {
    "name": "ipython",
    "version": 3
   },
   "file_extension": ".py",
   "mimetype": "text/x-python",
   "name": "python",
   "nbconvert_exporter": "python",
   "pygments_lexer": "ipython3",
   "version": "3.8.5"
  }
 },
 "nbformat": 4,
 "nbformat_minor": 4
}
