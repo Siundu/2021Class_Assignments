{
 "cells": [
  {
   "cell_type": "markdown",
   "metadata": {},
   "source": [
    "## Assignment 2"
   ]
  },
  {
   "cell_type": "code",
   "execution_count": 7,
   "metadata": {
    "scrolled": true
   },
   "outputs": [
    {
     "name": "stdout",
     "output_type": "stream",
     "text": [
      "first name: Joyce\n",
      "last name: Siundu\n",
      "Joyce Siundu\n",
      " Country name: Kenya\n",
      " current job: Nurse\n",
      " Email address:jjj@gmail.com\n",
      " phone number :0754123569\n",
      "city of origin :Mwea\n",
      " physical address :Kitale\n"
     ]
    }
   ],
   "source": [
    "firstname = input(\"first name: \")\n",
    "lastname = input(\"last name: \")\n",
    "\n",
    "Name = input(firstname +\" \"+ lastname)\n",
    "Country = input(' Country name: ')\n",
    "Current_job = input(' current job: ')\n",
    "Email_address = input (' Email address:')\n",
    "Phone_number = input(' phone number :')\n",
    "City_of_origin = input('city of origin :')\n",
    "Physical_address = input (' physical address :')\n",
    "\n",
    "\n"
   ]
  },
  {
   "cell_type": "code",
   "execution_count": null,
   "metadata": {},
   "outputs": [],
   "source": []
  }
 ],
 "metadata": {
  "kernelspec": {
   "display_name": "Python 3",
   "language": "python",
   "name": "python3"
  },
  "language_info": {
   "codemirror_mode": {
    "name": "ipython",
    "version": 3
   },
   "file_extension": ".py",
   "mimetype": "text/x-python",
   "name": "python",
   "nbconvert_exporter": "python",
   "pygments_lexer": "ipython3",
   "version": "3.8.5"
  }
 },
 "nbformat": 4,
 "nbformat_minor": 4
}
